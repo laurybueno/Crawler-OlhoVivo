{
 "cells": [
  {
   "cell_type": "code",
   "execution_count": null,
   "metadata": {},
   "outputs": [],
   "source": [
    "import requests\n",
    "import csv\n",
    "import json\n",
    "import os\n",
    "import schedule\n",
    "import time\n",
    "\n",
    "url = 'http://api.olhovivo.sptrans.com.br/v0'\n",
    "s = requests.session()"
   ]
  },
  {
   "cell_type": "code",
   "execution_count": null,
   "metadata": {
    "scrolled": false
   },
   "outputs": [],
   "source": [
    "def renew_token():\n",
    "    s.post(url+'/Login/Autenticar?token='+os.getenv('API_KEY'), timeout=3)"
   ]
  },
  {
   "cell_type": "code",
   "execution_count": null,
   "metadata": {
    "collapsed": true,
    "scrolled": true
   },
   "outputs": [],
   "source": [
    "def get_cod_linha( linha ):\n",
    "    res = s.get(url+'/Linha/Buscar?termosBusca='+linha)\n",
    "    ret = []\n",
    "    for linha in res.json():\n",
    "        ret.append(linha['CodigoLinha'])\n",
    "\n",
    "    return ret"
   ]
  },
  {
   "cell_type": "code",
   "execution_count": null,
   "metadata": {
    "collapsed": true
   },
   "outputs": [],
   "source": [
    "# Returns json text ready to be saved as file\n",
    "def get_posicao( cod_linha ):\n",
    "    try:\n",
    "        res = s.get(url+'/Posicao?codigoLinha='+str(cod_linha), timeout=3)\n",
    "        return res.text\n",
    "    except Exception:\n",
    "        return ''"
   ]
  },
  {
   "cell_type": "code",
   "execution_count": null,
   "metadata": {},
   "outputs": [],
   "source": [
    "def get_data():\n",
    "    renew_token()\n",
    "    for linha in cod_linhas:\n",
    "        with open('/data/'+str(linha)+'-'+str(time.time())+'.json', 'w') as f:\n",
    "            f.write(get_posicao(linha))"
   ]
  },
  {
   "cell_type": "code",
   "execution_count": null,
   "metadata": {},
   "outputs": [],
   "source": [
    "renew_token()\n",
    "cod_linhas = []\n",
    "with open('../dados/gtfs-20170411/routes.txt', 'r') as f:\n",
    "    routes = csv.reader(f)\n",
    "    next(routes, None)  # ignore header\n",
    "    for line in routes:\n",
    "        for cod in get_cod_linha(line[0]):\n",
    "            cod_linhas.append(cod)"
   ]
  },
  {
   "cell_type": "code",
   "execution_count": null,
   "metadata": {},
   "outputs": [],
   "source": [
    "cod_linhas = set(cod_linhas)  # remove duplicate entries"
   ]
  },
  {
   "cell_type": "code",
   "execution_count": null,
   "metadata": {},
   "outputs": [],
   "source": [
    "schedule.every(1).minutes.do(get_data)"
   ]
  },
  {
   "cell_type": "code",
   "execution_count": null,
   "metadata": {},
   "outputs": [],
   "source": [
    "while True:\n",
    "    schedule.run_pending()\n",
    "    time.sleep(1)"
   ]
  }
 ],
 "metadata": {
  "kernelspec": {
   "display_name": "Python 3",
   "language": "python",
   "name": "python3"
  },
  "language_info": {
   "codemirror_mode": {
    "name": "ipython",
    "version": 3
   },
   "file_extension": ".py",
   "mimetype": "text/x-python",
   "name": "python",
   "nbconvert_exporter": "python",
   "pygments_lexer": "ipython3",
   "version": "3.5.2"
  }
 },
 "nbformat": 4,
 "nbformat_minor": 2
}
